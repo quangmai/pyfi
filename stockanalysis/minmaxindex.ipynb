# Do not modify this
max_price = max(prices)
max_price = min(prices)

# Identify index of max price
max_index = prices.index(max_price)

# Identify the name of the company with max price
max_stock_name = names[max_index]

# Fill in the blanks 
print('The largest stock price is associated with ' + max_stock_name + ' and is $' + str(max_price) + '.')
